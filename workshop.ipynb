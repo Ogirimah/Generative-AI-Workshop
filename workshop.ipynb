{
 "cells": [
  {
   "cell_type": "code",
   "execution_count": null,
   "id": "4850e256",
   "metadata": {},
   "outputs": [],
   "source": [
    "<table align=\"center\">\n",
    "  \n",
    "  <td align=\"center\"><a target=\"_blank\" href=\"https://colab.research.google.com/github/ogirimah/generative-ai-workshop/workshop.ipynb\">\n",
    "        <img src=\"https://i.ibb.co/2P3SLwK/colab.png\"  style=\"padding-bottom:5px;\" />Run in Google Colab</a></td>\n",
    "  <td align=\"center\"><a target=\"_blank\" href=\"https://github.com/ogirimah/generative-ai-workshop/workshop.ipynb\">\n",
    "        <img src=\"https://i.ibb.co/xfJbPmL/github.png\"  height=\"70px\" style=\"padding-bottom:5px;\"  />View Source on GitHub</a></td>\n",
    "</table>"
   ]
  },
  {
   "cell_type": "code",
   "execution_count": null,
   "id": "480c58cd-f9bd-4607-9e19-ca53ec836bd4",
   "metadata": {},
   "outputs": [],
   "source": [
    "from openai import OpenAI"
   ]
  },
  {
   "cell_type": "code",
   "execution_count": 4,
   "id": "b5e9fe2b-1e93-4e97-95f0-96db42fce1cc",
   "metadata": {},
   "outputs": [],
   "source": [
    "import os\n",
    "\n",
    "os.environ['OPENAI_API_KEY'] = ''"
   ]
  },
  {
   "cell_type": "code",
   "execution_count": 5,
   "id": "6a6f7d30-0a2c-46d4-bd19-dae2772ab818",
   "metadata": {},
   "outputs": [],
   "source": [
    "client = OpenAI()\n",
    "chat_client = "
   ]
  },
  {
   "cell_type": "code",
   "execution_count": null,
   "id": "e2bf8fce-4ebb-4e65-bcb5-9d7b6b8aa0ea",
   "metadata": {},
   "outputs": [],
   "source": []
  }
 ],
 "metadata": {
  "kernelspec": {
   "display_name": "Python 3 (ipykernel)",
   "language": "python",
   "name": "python3"
  },
  "language_info": {
   "codemirror_mode": {
    "name": "ipython",
    "version": 3
   },
   "file_extension": ".py",
   "mimetype": "text/x-python",
   "name": "python",
   "nbconvert_exporter": "python",
   "pygments_lexer": "ipython3",
   "version": "3.11.5"
  }
 },
 "nbformat": 4,
 "nbformat_minor": 5
}
